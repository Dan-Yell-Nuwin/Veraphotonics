{
 "cells": [
  {
   "cell_type": "code",
   "execution_count": 96,
   "metadata": {
    "collapsed": true,
    "pycharm": {
     "is_executing": false
    }
   },
   "outputs": [],
   "source": [
    "import os\n",
    "import pandas as pd\n",
    "import statistics as stat\n",
    "files = os.listdir(\"S0110\")\n",
    "files\n",
    "names = [22.5,30,40,50,60,70,90,110,130,150,170]\n",
    "nums = [22.64388265, 30.39151613, 40.25746774, 50.07306452, 59.86404301, 69.66849462, 89.12866129, 108.618957, 127.8504355, 147.3812742, 167.2023226]\n",
    "files_new = []\n",
    "for t in names:\n",
    "    files_new.append(str(t) + \".xls\")\n",
    "files_new\n",
    "avg1 = []\n",
    "avg2 = []\n",
    "avg_diff = []\n",
    "for f in files_new:\n",
    "    data = pd.read_excel(\"S0110/\" + f)\n",
    "    list1 =(list(data.iloc[:,1]))\n",
    "    list2 = list(data.iloc[:,2])\n",
    "    avg1.append(list1[-1])\n",
    "    avg2.append(list2[-1])\n",
    "    avg_diff.append(list2[-1]-list1[-1])"
   ]
  },
  {
   "cell_type": "code",
   "execution_count": 97,
   "outputs": [
    {
     "name": "stdout",
     "text": [
      "[1512.3027166666668, 1512.383, 1512.4834166666667, 1512.5855454545454, 1512.6919499999997, 1512.8087166666667, 1513.0183833333333, 1513.2270333333336, 1513.4532833333333, 1513.6892166666664, 1513.9352666666666]\n[1513.4593833333336, 1513.5382666666665, 1513.6402333333335, 1513.7415181818185, 1513.8484166666665, 1513.9650333333332, 1514.17415, 1514.382816666667, 1514.6092333333333, 1514.8467666666668, 1515.0950166666669]\n[1.1566666666667516, 1.1552666666664209, 1.1568166666668276, 1.155972727273138, 1.1564666666668018, 1.1563166666664983, 1.15576666666675, 1.1557833333333747, 1.1559500000000753, 1.1575500000003558, 1.1597500000002583]\n"
     ],
     "output_type": "stream"
    },
    {
     "data": {
      "text/plain": "1.1565732782370228"
     },
     "metadata": {},
     "output_type": "execute_result",
     "execution_count": 97
    }
   ],
   "source": [
    "print(avg1)\n",
    "print(avg2)\n",
    "print(avg_diff)\n",
    "#Part 2 for second column\n",
    "constant = stat.mean(avg_diff)\n",
    "constant"
   ],
   "metadata": {
    "collapsed": false,
    "pycharm": {
     "name": "#%%\n",
     "is_executing": false
    }
   }
  },
  {
   "cell_type": "code",
   "execution_count": 98,
   "outputs": [
    {
     "data": {
      "text/plain": "<Figure size 432x288 with 1 Axes>",
      "image/png": "[encoded data removed]"
     },
     "metadata": {
      "needs_background": "light"
     },
     "output_type": "display_data"
    }
   ],
   "source": [
    "import matplotlib.pyplot as plt\n",
    "import numpy as np\n",
    "\n",
    "plt.scatter(avg1,nums)\n",
    "plt.xlabel(\"wavelength\").set_color('white')\n",
    "plt.ylabel(\"temperature\").set_color('white')"
   ],
   "metadata": {
    "collapsed": false,
    "pycharm": {
     "name": "#%%\n",
     "is_executing": false
    }
   }
  },
  {
   "cell_type": "code",
   "execution_count": 99,
   "outputs": [
    {
     "name": "stdout",
     "text": [
      "[ 8.89496061e+01 -1.34494339e+05]\n[-5.27139145e+00  1.60411338e+04 -1.22030416e+07]\n[-1.24902436e+00  5.66444592e+03 -8.56283933e+06  4.31471373e+09]\n[-4.12314967e-04  1.24632175e+00  1.22208984e+00 -2.85049839e+06\n  2.15400733e+09]\n"
     ],
     "output_type": "stream"
    },
    {
     "name": "stderr",
     "text": [
      "/usr/local/lib/python3.7/site-packages/IPython/core/interactiveshell.py:3326: RankWarning: Polyfit may be poorly conditioned\n  exec(code_obj, self.user_global_ns, self.user_ns)\n"
     ],
     "output_type": "stream"
    }
   ],
   "source": [
    "#data for polynomial analysis regressions until 4th polynomial\n",
    "#also calculates error\n",
    "regression_data = []\n",
    "fit_coef = []\n",
    "error_list = []\n",
    "for i in range(4):\n",
    "    z = np.polyfit(x=avg1,y=nums,deg=i+1)\n",
    "    p = np.poly1d(z)\n",
    "    print(z)\n",
    "    fit_coef.append(z)\n",
    "    \n",
    "    predicted_temp = p(avg1)\n",
    "    counter = 0\n",
    "    list_placer = []\n",
    "    for t in predicted_temp:\n",
    "        list_placer.append(t-nums[counter])\n",
    "        counter+=1\n",
    "    error_list.append(list_placer)\n",
    "    regression_data.append(predicted_temp)"
   ],
   "metadata": {
    "collapsed": false,
    "pycharm": {
     "name": "#%%\n",
     "is_executing": false
    }
   }
  },
  {
   "cell_type": "code",
   "execution_count": 100,
   "outputs": [
    {
     "name": "stdout",
     "text": [
      "[array([ 24.39236015,  31.53353102,  40.46555396,  49.54986941,\n        59.01451181,  69.40086081,  88.05062822, 106.60996352,\n       126.73481189, 147.72098894, 169.60703951]), array([ 22.65975179,  30.43369565,  40.06152649,  49.74447095,\n        59.71583841,  70.5208925 ,  89.56170279, 108.05008844,\n       127.57931793, 147.36956805, 167.38326627]), array([ 22.84236813,  30.48989105,  40.00827217,  49.62808228,\n        59.57679462,  70.39704132,  89.53333092, 108.14537239,\n       127.76175499, 147.49951172, 167.19762802]), array([ 22.84237957,  30.48991108,  40.00829172,  49.62809372,\n        59.57679415,  70.3970294 ,  89.53331327, 108.14537334,\n       127.76179314, 147.49956512, 167.19759464])]\n"
     ],
     "output_type": "stream"
    },
    {
     "data": {
      "text/plain": "[array([ 8.89496061e+01, -1.34494339e+05]),\n array([-5.27139145e+00,  1.60411338e+04, -1.22030416e+07]),\n array([-1.24902436e+00,  5.66444592e+03, -8.56283933e+06,  4.31471373e+09]),\n array([-4.12314967e-04,  1.24632175e+00,  1.22208984e+00, -2.85049839e+06,\n         2.15400733e+09])]"
     },
     "metadata": {},
     "output_type": "execute_result",
     "execution_count": 100
    }
   ],
   "source": [
    "print(regression_data)\n",
    "fit_coef"
   ],
   "metadata": {
    "collapsed": false,
    "pycharm": {
     "name": "#%%\n",
     "is_executing": false
    }
   }
  },
  {
   "cell_type": "code",
   "execution_count": 101,
   "outputs": [
    {
     "data": {
      "text/plain": "[[1.7484774995334895,\n  1.1420148923163111,\n  0.20808622367329832,\n  -0.5231951076474388,\n  -0.8495311970269341,\n  -0.26763380661186886,\n  -1.0780330737613042,\n  -2.008993480326666,\n  -1.115623610410239,\n  0.33971474481313635,\n  2.4047169146962233],\n [0.015869143369652505,\n  0.04217951972817957,\n  -0.19594124776195798,\n  -0.328593573509238,\n  -0.14820460376502353,\n  0.8523978846026665,\n  0.433041503464068,\n  -0.5688685608632511,\n  -0.27111757263946856,\n  -0.011706153817613085,\n  0.1809436664353825],\n [0.198485475915529,\n  0.09837492224609434,\n  -0.2491955689794949,\n  -0.44498224460937763,\n  -0.2872483856713899,\n  0.7285467008007771,\n  0.40466962735840184,\n  -0.47358460925292434,\n  -0.08868051037597979,\n  0.11823751874999289,\n  -0.0046945787597678645],\n [0.19849692000732588,\n  0.09839494940673887,\n  -0.24917601865600858,\n  -0.44497080051758076,\n  -0.2872488625085481,\n  0.728534779871822,\n  0.4046519843835483,\n  -0.47358365557860793,\n  -0.08864236340332354,\n  0.11829092451171164,\n  -0.004727957360842083]]"
     },
     "metadata": {},
     "output_type": "execute_result",
     "execution_count": 101
    }
   ],
   "source": [
    "#List of all data error\n",
    "error_list"
   ],
   "metadata": {
    "collapsed": false,
    "pycharm": {
     "name": "#%%\n",
     "is_executing": false
    }
   }
  },
  {
   "cell_type": "code",
   "execution_count": 102,
   "outputs": [],
   "source": [
    "#compute for max error and average error\n",
    "import math as m\n",
    "max_list = []\n",
    "mean_list = []\n",
    "for i in error_list:\n",
    "    max = i[0]\n",
    "    mean = stat.mean(i)\n",
    "    for t in i:\n",
    "        if abs(t) > max:\n",
    "            max = t\n",
    "    max_list.append(max)\n",
    "    mean_list.append(mean)"
   ],
   "metadata": {
    "collapsed": false,
    "pycharm": {
     "name": "#%%\n",
     "is_executing": false
    }
   }
  },
  {
   "cell_type": "code",
   "execution_count": 103,
   "outputs": [
    {
     "name": "stdout",
     "text": [
      "[2.4047169146962233, 0.8523978846026665, 0.7285467008007771, 0.728534779871822]\n[-6.836293147733323e-11, 4.766724388942252e-10, -6.5138707399305735e-06, 1.8091051123421535e-06]\n"
     ],
     "output_type": "stream"
    }
   ],
   "source": [
    "print(max_list)\n",
    "print(mean_list)"
   ],
   "metadata": {
    "collapsed": false,
    "pycharm": {
     "name": "#%%\n",
     "is_executing": false
    }
   }
  },
  {
   "cell_type": "code",
   "execution_count": 103,
   "outputs": [],
   "source": [],
   "metadata": {
    "collapsed": false,
    "pycharm": {
     "name": "#%%\n",
     "is_executing": false
    }
   }
  },
  {
   "cell_type": "code",
   "execution_count": 106,
   "outputs": [
    {
     "name": "stdout",
     "text": [
      "22.668834200128913\n30.30771864578128\n40.08473313972354\n49.68785345181823\n59.70590737462044\n70.49730444513261\n89.48933869041502\n107.98095731623471\n127.52625970169902\n147.45027636364102\n167.63748721405864\n"
     ],
     "output_type": "stream"
    },
    {
     "data": {
      "text/plain": "[22.668834200128913,\n 30.30771864578128,\n 40.08473313972354,\n 49.68785345181823,\n 59.70590737462044,\n 70.49730444513261,\n 89.48933869041502,\n 107.98095731623471,\n 127.52625970169902,\n 147.45027636364102,\n 167.63748721405864]"
     },
     "metadata": {},
     "output_type": "execute_result",
     "execution_count": 106
    }
   ],
   "source": [
    "#Part 3 for subtracting column equation with constant and plugging into equation\n",
    "x_data = []\n",
    "final_data = []\n",
    "for o in avg2:\n",
    "    b = o-constant\n",
    "    b\n",
    "    z = np.polyfit(x=avg1,y=nums,deg=2)\n",
    "    p = np.poly1d(z)\n",
    "    p\n",
    "    print(p(b))\n",
    "    final_data.append( p(b))\n",
    "final_data\n",
    "\n",
    "\n"
   ],
   "metadata": {
    "collapsed": false,
    "pycharm": {
     "name": "#%%\n",
     "is_executing": false
    }
   }
  }
 ],
 "metadata": {
  "kernelspec": {
   "display_name": "Python 3",
   "language": "python",
   "name": "python3"
  },
  "language_info": {
   "codemirror_mode": {
    "name": "ipython",
    "version": 2
   },
   "file_extension": ".py",
   "mimetype": "text/x-python",
   "name": "python",
   "nbconvert_exporter": "python",
   "pygments_lexer": "ipython2",
   "version": "2.7.6"
  },
  "pycharm": {
   "stem_cell": {
    "cell_type": "raw",
    "source": [],
    "metadata": {
     "collapsed": false
    }
   }
  }
 },
 "nbformat": 4,
 "nbformat_minor": 0
}